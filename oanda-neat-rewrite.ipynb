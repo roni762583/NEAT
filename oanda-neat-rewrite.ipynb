{
  "nbformat": 4,
  "nbformat_minor": 0,
  "metadata": {
    "colab": {
      "provenance": [],
      "include_colab_link": true
    },
    "kernelspec": {
      "name": "python3",
      "display_name": "Python 3"
    },
    "language_info": {
      "name": "python"
    }
  },
  "cells": [
    {
      "cell_type": "markdown",
      "metadata": {
        "id": "view-in-github",
        "colab_type": "text"
      },
      "source": [
        "<a href=\"https://colab.research.google.com/github/roni762583/NEAT/blob/main/oanda-neat-rewrite.ipynb\" target=\"_parent\"><img src=\"https://colab.research.google.com/assets/colab-badge.svg\" alt=\"Open In Colab\"/></a>"
      ]
    },
    {
      "cell_type": "code",
      "source": [
        "!rm -f *\n",
        "!pip install neat-python\n",
        "#!pip install gymnasium\n",
        "!pip install visualize\n",
        "#!pip install pygame\n",
        "!pip install plotly\n",
        "\n",
        "#import gymnasium as gym\n",
        "#import gym.spaces as spaces\n",
        "import math\n",
        "import pandas as pd\n",
        "import requests\n",
        "import numpy as np\n",
        "import neat\n",
        "from neat.nn import FeedForwardNetwork\n",
        "from neat.population import Population\n",
        "import matplotlib.pyplot as plt\n",
        "import pickle\n",
        "import json\n",
        "import os\n",
        "from datetime import datetime, timedelta\n",
        "import time"
      ],
      "metadata": {
        "id": "ReIwwHrdKLZF",
        "colab": {
          "base_uri": "https://localhost:8080/"
        },
        "outputId": "d4520242-c030-4fe5-d32e-de38c0ac765d"
      },
      "execution_count": null,
      "outputs": [
        {
          "output_type": "stream",
          "name": "stdout",
          "text": [
            "rm: cannot remove 'sample_data': Is a directory\n",
            "Requirement already satisfied: neat-python in /usr/local/lib/python3.10/dist-packages (0.92)\n",
            "Requirement already satisfied: visualize in /usr/local/lib/python3.10/dist-packages (0.5.1)\n",
            "Requirement already satisfied: numpy in /usr/local/lib/python3.10/dist-packages (from visualize) (1.23.5)\n",
            "Requirement already satisfied: opencv-python in /usr/local/lib/python3.10/dist-packages (from visualize) (4.8.0.76)\n",
            "Requirement already satisfied: matplotlib in /usr/local/lib/python3.10/dist-packages (from visualize) (3.7.1)\n",
            "Requirement already satisfied: Pillow in /usr/local/lib/python3.10/dist-packages (from visualize) (9.4.0)\n",
            "Requirement already satisfied: contourpy>=1.0.1 in /usr/local/lib/python3.10/dist-packages (from matplotlib->visualize) (1.2.0)\n",
            "Requirement already satisfied: cycler>=0.10 in /usr/local/lib/python3.10/dist-packages (from matplotlib->visualize) (0.12.1)\n",
            "Requirement already satisfied: fonttools>=4.22.0 in /usr/local/lib/python3.10/dist-packages (from matplotlib->visualize) (4.44.0)\n",
            "Requirement already satisfied: kiwisolver>=1.0.1 in /usr/local/lib/python3.10/dist-packages (from matplotlib->visualize) (1.4.5)\n",
            "Requirement already satisfied: packaging>=20.0 in /usr/local/lib/python3.10/dist-packages (from matplotlib->visualize) (23.2)\n",
            "Requirement already satisfied: pyparsing>=2.3.1 in /usr/local/lib/python3.10/dist-packages (from matplotlib->visualize) (3.1.1)\n",
            "Requirement already satisfied: python-dateutil>=2.7 in /usr/local/lib/python3.10/dist-packages (from matplotlib->visualize) (2.8.2)\n",
            "Requirement already satisfied: six>=1.5 in /usr/local/lib/python3.10/dist-packages (from python-dateutil>=2.7->matplotlib->visualize) (1.16.0)\n",
            "Requirement already satisfied: plotly in /usr/local/lib/python3.10/dist-packages (5.15.0)\n",
            "Requirement already satisfied: tenacity>=6.2.0 in /usr/local/lib/python3.10/dist-packages (from plotly) (8.2.3)\n",
            "Requirement already satisfied: packaging in /usr/local/lib/python3.10/dist-packages (from plotly) (23.2)\n"
          ]
        }
      ]
    },
    {
      "cell_type": "code",
      "source": [
        "instrument = \"GBP_NZD\"\n",
        "API_KEY = \"dc209942c46fbd6dd5zbe97a7043edb9-97d2222a6dfa0ef915ee92ce54628997\"\n",
        "ACCOUNT_ID = \"001-001-5555550-001\"\n",
        "OANDA_URL = \"https://api-fxtrade.oanda.com/v3\"\n",
        "inst_url = f\"{OANDA_URL}/accounts/{ACCOUNT_ID}/instruments\"\n",
        "candles_url =  f\"{OANDA_URL}/instruments/{instrument}/candles\"\n",
        "SECURE_HEADER = {\n",
        "    'Authorization': f'Bearer {API_KEY}'\n",
        "}"
      ],
      "metadata": {
        "id": "R4MRmx0SLThp"
      },
      "execution_count": null,
      "outputs": []
    },
    {
      "cell_type": "code",
      "source": [
        "# gets instruments info\n",
        "def fetch_instrument_data(api_key, account_id, instrument_name):\n",
        "    # Base OANDA API URL\n",
        "    oanda_url = \"https://api-fxtrade.oanda.com/v3\"\n",
        "\n",
        "    # Endpoint for instrument information\n",
        "    inst_url = f\"{oanda_url}/accounts/{account_id}/instruments\"\n",
        "\n",
        "    # Request headers with authorization\n",
        "    headers = {\n",
        "        'Authorization': f'Bearer {api_key}'\n",
        "    }\n",
        "\n",
        "    # Create a session for making requests\n",
        "    session = requests.Session()\n",
        "\n",
        "    # Make the API request to get instrument information\n",
        "    inst_response = session.get(inst_url, params=None, headers=headers)\n",
        "\n",
        "    # Check if the request was successful\n",
        "    if inst_response.status_code == 200:\n",
        "        # Extract instrument data from the JSON response\n",
        "        inst_data = inst_response.json()\n",
        "\n",
        "        # Extract information for the specified instrument\n",
        "        instrument_info = next((item for item in inst_data['instruments'] if item['name'] == instrument_name), None)\n",
        "\n",
        "        if instrument_info:\n",
        "            # Return a dictionary with instrument information\n",
        "            return {\n",
        "                'name': instrument_info['name'],\n",
        "                'type': instrument_info['type'],\n",
        "                'displayName': instrument_info['displayName'],\n",
        "                'pipLocation': instrument_info['pipLocation'],\n",
        "                'marginRate': instrument_info['marginRate']\n",
        "            }\n",
        "        else:\n",
        "            print(f\"Instrument '{instrument_name}' not found.\")\n",
        "            return None\n",
        "    else:\n",
        "        print(f\"Error: {inst_response.status_code}, {inst_response.text}\")\n",
        "        return None"
      ],
      "metadata": {
        "id": "95HIjw8QKRZ8"
      },
      "execution_count": null,
      "outputs": []
    },
    {
      "cell_type": "code",
      "source": [
        "# get inst. info\n",
        "instrument_info = fetch_instrument_data(API_KEY, ACCOUNT_ID, instrument)\n",
        "\n",
        "if instrument_info:\n",
        "    print(\"Instrument Info:\")\n",
        "    print(instrument_info)\n",
        "    # Convert the instrument_info to a list before creating the DataFrame\n",
        "    instrument_info_list = [instrument_info]\n",
        "    instrument_df = pd.DataFrame(instrument_info_list)\n"
      ],
      "metadata": {
        "colab": {
          "base_uri": "https://localhost:8080/"
        },
        "id": "X9-PJGbJLbtJ",
        "outputId": "f7dfa81f-9f09-4588-83e4-07d1f12bcc70"
      },
      "execution_count": null,
      "outputs": [
        {
          "output_type": "stream",
          "name": "stdout",
          "text": [
            "Instrument Info:\n",
            "{'name': 'GBP_NZD', 'type': 'CURRENCY', 'displayName': 'GBP/NZD', 'pipLocation': -4, 'marginRate': '0.05'}\n"
          ]
        }
      ]
    },
    {
      "cell_type": "code",
      "source": [
        "    # pickle Instruments data df\n",
        "    instrument_df.to_pickle(\"instruments.pkl\")\n",
        "    ins_df = pd.read_pickle(\"instruments.pkl\")"
      ],
      "metadata": {
        "id": "6SbOvawSqKRk"
      },
      "execution_count": null,
      "outputs": []
    },
    {
      "cell_type": "markdown",
      "source": [
        "l\n",
        "\n",
        "\n",
        "\n",
        "\n",
        "l"
      ],
      "metadata": {
        "id": "vnoRqY6r8ezJ"
      }
    },
    {
      "cell_type": "code",
      "source": [
        "# functions\n",
        "\n",
        "def parse_candle_data_to_dataframe(json_response):\n",
        "    # Define lists for prices and OHLC (Open, High, Low, Close)\n",
        "    prices = ['mid', 'bid', 'ask']\n",
        "    ohlc = ['o', 'h', 'l', 'c']\n",
        "\n",
        "    # Initialize an empty list to store dictionaries\n",
        "    our_data = []\n",
        "\n",
        "    # Loop through each candle in the 'candles' list of the JSON response\n",
        "    for candle in json_response['candles']:\n",
        "        # Check if the candle is complete; if not, skip to the next iteration\n",
        "        if candle['complete'] is False:\n",
        "            continue\n",
        "\n",
        "        # Create a new dictionary with 'time' and 'volume' as initial keys\n",
        "        new_dict = {'time': candle['time'], 'volume': candle['volume']}\n",
        "\n",
        "        # Nested loops to iterate over prices and OHLC\n",
        "        for price in prices:\n",
        "            for oh in ohlc:\n",
        "                # Create keys in the form of 'price_ohlc' and assign corresponding values\n",
        "                new_dict[f\"{price}_{oh}\"] = candle[price][oh]\n",
        "\n",
        "        # Append the created dictionary to the list\n",
        "        our_data.append(new_dict)\n",
        "\n",
        "    # Convert the list of dictionaries into a pandas DataFrame\n",
        "    return pd.DataFrame.from_dict(our_data)\n",
        "\n",
        "\n",
        "# save file\n",
        "def save_file(candles_df, pair, granularity):\n",
        "    candles_df.to_pickle(f\"{pair}_{granularity}.pkl\")\n"
      ],
      "metadata": {
        "id": "ZULML5ou6b-f"
      },
      "execution_count": null,
      "outputs": []
    },
    {
      "cell_type": "code",
      "source": [
        "\n",
        "# Modified function to fetch candles based on count\n",
        "def fetch_candles_count(pair_name, granularity, start_time, candles_count):\n",
        "    url = candles_url\n",
        "\n",
        "    # Format the start time\n",
        "    start_time_formatted = start_time.strftime('%Y-%m-%dT%H:%M:%S')\n",
        "\n",
        "    # Set the 'from' and 'count' parameters for the time range\n",
        "    params = {\n",
        "        'granularity': granularity,\n",
        "        'price': 'MBA',\n",
        "        'from': start_time_formatted,\n",
        "        'count': candles_count\n",
        "    }\n",
        "\n",
        "    response = requests.get(url, params=params, headers=SECURE_HEADER)\n",
        "\n",
        "    if response.status_code == 200:\n",
        "        candles_data = response.json()\n",
        "        return response.status_code, candles_data['candles']\n",
        "    else:\n",
        "        print(f\"Error: {response.status_code}, {response.text}\")\n",
        "        return response.status_code, None\n",
        "\n",
        "\n",
        "granularity = 'H1'\n",
        "start_time = datetime(2023, 10, 1, 0, 0, 0)  # Set time to midnight\n",
        "candles_count = 500  # Adjust as needed\n",
        "\n",
        "# Fetch candles based on count\n",
        "status_code, candles_data = fetch_candles_count(instrument, granularity, start_time, candles_count)\n",
        "\n",
        "if status_code != 200:\n",
        "    print(f\"{instrument} Error: {status_code}\")\n",
        "else:\n",
        "    # Process candles_data as needed\n",
        "    candles_df = parse_candle_data_to_dataframe({'candles': candles_data})\n",
        "    save_file(candles_df, instrument, granularity)\n"
      ],
      "metadata": {
        "id": "5QdYDaZAMscs"
      },
      "execution_count": null,
      "outputs": []
    },
    {
      "cell_type": "code",
      "source": [
        "# this worked\n",
        "print(candles_df.head())"
      ],
      "metadata": {
        "colab": {
          "base_uri": "https://localhost:8080/"
        },
        "id": "Fiy9QwoOJCJs",
        "outputId": "83377c1e-2eb2-406b-b5ac-a1ac57448676"
      },
      "execution_count": null,
      "outputs": [
        {
          "output_type": "stream",
          "name": "stdout",
          "text": [
            "                             time  volume    mid_o    mid_h    mid_l    mid_c  \\\n",
            "0  2023-10-01T21:00:00.000000000Z      85  2.03445  2.03695  2.03425  2.03466   \n",
            "1  2023-10-01T22:00:00.000000000Z    2033  2.03488  2.03538  2.03262  2.03320   \n",
            "2  2023-10-01T23:00:00.000000000Z    1434  2.03316  2.03420  2.03270  2.03358   \n",
            "3  2023-10-02T00:00:00.000000000Z    2215  2.03360  2.03460  2.03239  2.03424   \n",
            "4  2023-10-02T01:00:00.000000000Z    3720  2.03430  2.03532  2.03340  2.03372   \n",
            "\n",
            "     bid_o    bid_h    bid_l    bid_c    ask_o    ask_h    ask_l    ask_c  \n",
            "0  2.03195  2.03445  2.03175  2.03272  2.03695  2.03945  2.03591  2.03661  \n",
            "1  2.03322  2.03484  2.03083  2.03287  2.03655  2.03659  2.03299  2.03353  \n",
            "2  2.03284  2.03384  2.03236  2.03306  2.03349  2.03456  2.03304  2.03411  \n",
            "3  2.03309  2.03427  2.03202  2.03387  2.03411  2.03495  2.03272  2.03461  \n",
            "4  2.03391  2.03498  2.03300  2.03340  2.03468  2.03566  2.03377  2.03403  \n"
          ]
        }
      ]
    },
    {
      "cell_type": "code",
      "source": [
        "# read pickle and copy columns\n",
        "fn = instrument+'_'+granularity+'.pkl'\n",
        "df = pd.read_pickle(fn)\n",
        "neat_df = df[['time', 'bid_c']].copy()\n",
        "# Convert 'time' column to datetime in 'neat_df'\n",
        "neat_df['time'] = pd.to_datetime(neat_df['time'])\n",
        "# Remove time zone from the 'time' column in neat_df\n",
        "neat_df['time'] = neat_df['time'].dt.tz_localize(None)\n"
      ],
      "metadata": {
        "id": "HlNbQCgkJ9lF"
      },
      "execution_count": null,
      "outputs": []
    },
    {
      "cell_type": "code",
      "source": [
        "print(neat_df.shape)\n",
        "print(neat_df.head())\n",
        "print(neat_df.tail())"
      ],
      "metadata": {
        "colab": {
          "base_uri": "https://localhost:8080/"
        },
        "id": "zk0QNxp-KKlx",
        "outputId": "8a6f9363-50d7-41c0-f493-3f3b65a7f117"
      },
      "execution_count": null,
      "outputs": [
        {
          "output_type": "stream",
          "name": "stdout",
          "text": [
            "(500, 2)\n",
            "                 time    bid_c\n",
            "0 2023-10-01 21:00:00  2.03272\n",
            "1 2023-10-01 22:00:00  2.03287\n",
            "2 2023-10-01 23:00:00  2.03306\n",
            "3 2023-10-02 00:00:00  2.03387\n",
            "4 2023-10-02 01:00:00  2.03340\n",
            "                   time    bid_c\n",
            "495 2023-10-30 12:00:00  2.08105\n",
            "496 2023-10-30 13:00:00  2.08004\n",
            "497 2023-10-30 14:00:00  2.08122\n",
            "498 2023-10-30 15:00:00  2.08302\n",
            "499 2023-10-30 16:00:00  2.08317\n"
          ]
        }
      ]
    },
    {
      "cell_type": "code",
      "source": [
        "import matplotlib.pyplot as plt\n",
        "\n",
        "# Plotting the 'bid_c' column over time with small points\n",
        "plt.figure(figsize=(10, 6))\n",
        "plt.scatter(neat_df['time'], neat_df['bid_c'], marker='.', s=1, label='Bid Price')  # 's' controls the marker size\n",
        "plt.title('Bid Price Over Time')\n",
        "plt.xlabel('Time')\n",
        "plt.ylabel('Bid Price')\n",
        "\n",
        "# Reduce the number of labels on the y-axis\n",
        "plt.yticks(plt.yticks()[0][::2])  # Adjust the step value as needed\n",
        "\n",
        "plt.legend()\n",
        "plt.show()\n"
      ],
      "metadata": {
        "colab": {
          "base_uri": "https://localhost:8080/",
          "height": 564
        },
        "id": "Xts0EZ3Vm-X4",
        "outputId": "2e31fa68-46db-47cc-a7b6-ad81006bb5b1"
      },
      "execution_count": null,
      "outputs": [
        {
          "output_type": "display_data",
          "data": {
            "text/plain": [
              "<Figure size 1000x600 with 1 Axes>"
            ],
            "image/png": "[encoded data removed]"
          },
          "metadata": {}
        }
      ]
    },
    {
      "cell_type": "code",
      "source": [
        "\n",
        "# Define the start and end date for the subset\n",
        "start_date = '2022-01-03 00:00:00'\n",
        "end_date = '2022-01-04 12:00:00'\n",
        "\n",
        "# Convert the date strings to datetime objects\n",
        "start_date = pd.to_datetime(start_date)\n",
        "end_date = pd.to_datetime(end_date)\n",
        "\n",
        "# Create a subset of neat_df based on the specified date range\n",
        "subset_df = neat_df[(neat_df['time'] >= start_date) & (neat_df['time'] <= end_date)]\n",
        "\n",
        "# Make a deep copy of the subset dataframe\n",
        "subset_copy = subset_df.copy()\n",
        "\n",
        "# Print the shape of the subset dataframe and its deep copy\n",
        "print(f\"Subset DataFrame shape: {subset_df.shape}\")\n",
        "print(f\"Deep Copy shape: {subset_copy.shape}\")\n"
      ],
      "metadata": {
        "colab": {
          "base_uri": "https://localhost:8080/"
        },
        "id": "w7HdJ_NY-VjZ",
        "outputId": "f2bc03d2-1a62-4002-c2b6-b5299a379174"
      },
      "execution_count": null,
      "outputs": [
        {
          "output_type": "stream",
          "name": "stdout",
          "text": [
            "Subset DataFrame shape: (0, 2)\n",
            "Deep Copy shape: (0, 2)\n"
          ]
        }
      ]
    },
    {
      "cell_type": "code",
      "source": [
        "import plotly.express as px\n",
        "\n",
        "# Convert 'time' column to string for better hover labels\n",
        "subset_copy['time_str'] = subset_copy['time'].dt.strftime('%Y-%m-%d %H:%M:%S')\n",
        "\n",
        "# Plotting the 'bid_c' column over time with plotly\n",
        "fig = px.line(subset_copy, x='time', y='bid_c', labels={'bid_c': 'Bid Price'}, title='Bid Price Over Time')\n",
        "fig.update_xaxes(title_text='Time', rangeslider_visible=True)\n",
        "fig.update_yaxes(title_text='Bid Price')\n",
        "fig.update_traces(hovertemplate='Date: %{x|%Y-%m-%d %H:%M:%S}<br>Bid Price: %{y}')\n",
        "\n",
        "# Show the interactive chart\n",
        "fig.show()\n"
      ],
      "metadata": {
        "colab": {
          "base_uri": "https://localhost:8080/",
          "height": 542
        },
        "id": "ZfcpyOtfd7vd",
        "outputId": "dfbf953a-5f1b-4380-9815-cc936833fb57"
      },
      "execution_count": null,
      "outputs": [
        {
          "output_type": "display_data",
          "data": {
            "text/html": [
              "<html>\n",
              "<head><meta charset=\"utf-8\" /></head>\n",
              "<body>\n",
              "    <div>            <script src=\"https://cdnjs.cloudflare.com/ajax/libs/mathjax/2.7.5/MathJax.js?config=TeX-AMS-MML_SVG\"></script><script type=\"text/javascript\">if (window.MathJax && window.MathJax.Hub && window.MathJax.Hub.Config) {window.MathJax.Hub.Config({SVG: {font: \"STIX-Web\"}});}</script>                <script type=\"text/javascript\">window.PlotlyConfig = {MathJaxConfig: 'local'};</script>\n",
              "        <script charset=\"utf-8\" src=\"https://cdn.plot.ly/plotly-2.24.1.min.js\"></script>                <div id=\"53214ffe-9f74-47b5-8a6f-cc7f38350a68\" class=\"plotly-graph-div\" style=\"height:525px; width:100%;\"></div>            <script type=\"text/javascript\">                                    window.PLOTLYENV=window.PLOTLYENV || {};                                    if (document.getElementById(\"53214ffe-9f74-47b5-8a6f-cc7f38350a68\")) {                    Plotly.newPlot(                        \"53214ffe-9f74-47b5-8a6f-cc7f38350a68\",                        [{\"hovertemplate\":\"Date: %{x|%Y-%m-%d %H:%M:%S}\\u003cbr\\u003eBid Price: %{y}\",\"legendgroup\":\"\",\"line\":{\"color\":\"#636efa\",\"dash\":\"solid\"},\"marker\":{\"symbol\":\"circle\"},\"mode\":\"lines\",\"name\":\"\",\"orientation\":\"v\",\"showlegend\":false,\"x\":[],\"xaxis\":\"x\",\"y\":[],\"yaxis\":\"y\",\"type\":\"scatter\"}],                        {\"template\":{\"data\":{\"histogram2dcontour\":[{\"type\":\"histogram2dcontour\",\"colorbar\":{\"outlinewidth\":0,\"ticks\":\"\"},\"colorscale\":[[0.0,\"#0d0887\"],[0.1111111111111111,\"#46039f\"],[0.2222222222222222,\"#7201a8\"],[0.3333333333333333,\"#9c179e\"],[0.4444444444444444,\"#bd3786\"],[0.5555555555555556,\"#d8576b\"],[0.6666666666666666,\"#ed7953\"],[0.7777777777777778,\"#fb9f3a\"],[0.8888888888888888,\"#fdca26\"],[1.0,\"#f0f921\"]]}],\"choropleth\":[{\"type\":\"choropleth\",\"colorbar\":{\"outlinewidth\":0,\"ticks\":\"\"}}],\"histogram2d\":[{\"type\":\"histogram2d\",\"colorbar\":{\"outlinewidth\":0,\"ticks\":\"\"},\"colorscale\":[[0.0,\"#0d0887\"],[0.1111111111111111,\"#46039f\"],[0.2222222222222222,\"#7201a8\"],[0.3333333333333333,\"#9c179e\"],[0.4444444444444444,\"#bd3786\"],[0.5555555555555556,\"#d8576b\"],[0.6666666666666666,\"#ed7953\"],[0.7777777777777778,\"#fb9f3a\"],[0.8888888888888888,\"#fdca26\"],[1.0,\"#f0f921\"]]}],\"heatmap\":[{\"type\":\"heatmap\",\"colorbar\":{\"outlinewidth\":0,\"ticks\":\"\"},\"colorscale\":[[0.0,\"#0d0887\"],[0.1111111111111111,\"#46039f\"],[0.2222222222222222,\"#7201a8\"],[0.3333333333333333,\"#9c179e\"],[0.4444444444444444,\"#bd3786\"],[0.5555555555555556,\"#d8576b\"],[0.6666666666666666,\"#ed7953\"],[0.7777777777777778,\"#fb9f3a\"],[0.8888888888888888,\"#fdca26\"],[1.0,\"#f0f921\"]]}],\"heatmapgl\":[{\"type\":\"heatmapgl\",\"colorbar\":{\"outlinewidth\":0,\"ticks\":\"\"},\"colorscale\":[[0.0,\"#0d0887\"],[0.1111111111111111,\"#46039f\"],[0.2222222222222222,\"#7201a8\"],[0.3333333333333333,\"#9c179e\"],[0.4444444444444444,\"#bd3786\"],[0.5555555555555556,\"#d8576b\"],[0.6666666666666666,\"#ed7953\"],[0.7777777777777778,\"#fb9f3a\"],[0.8888888888888888,\"#fdca26\"],[1.0,\"#f0f921\"]]}],\"contourcarpet\":[{\"type\":\"contourcarpet\",\"colorbar\":{\"outlinewidth\":0,\"ticks\":\"\"}}],\"contour\":[{\"type\":\"contour\",\"colorbar\":{\"outlinewidth\":0,\"ticks\":\"\"},\"colorscale\":[[0.0,\"#0d0887\"],[0.1111111111111111,\"#46039f\"],[0.2222222222222222,\"#7201a8\"],[0.3333333333333333,\"#9c179e\"],[0.4444444444444444,\"#bd3786\"],[0.5555555555555556,\"#d8576b\"],[0.6666666666666666,\"#ed7953\"],[0.7777777777777778,\"#fb9f3a\"],[0.8888888888888888,\"#fdca26\"],[1.0,\"#f0f921\"]]}],\"surface\":[{\"type\":\"surface\",\"colorbar\":{\"outlinewidth\":0,\"ticks\":\"\"},\"colorscale\":[[0.0,\"#0d0887\"],[0.1111111111111111,\"#46039f\"],[0.2222222222222222,\"#7201a8\"],[0.3333333333333333,\"#9c179e\"],[0.4444444444444444,\"#bd3786\"],[0.5555555555555556,\"#d8576b\"],[0.6666666666666666,\"#ed7953\"],[0.7777777777777778,\"#fb9f3a\"],[0.8888888888888888,\"#fdca26\"],[1.0,\"#f0f921\"]]}],\"mesh3d\":[{\"type\":\"mesh3d\",\"colorbar\":{\"outlinewidth\":0,\"ticks\":\"\"}}],\"scatter\":[{\"fillpattern\":{\"fillmode\":\"overlay\",\"size\":10,\"solidity\":0.2},\"type\":\"scatter\"}],\"parcoords\":[{\"type\":\"parcoords\",\"line\":{\"colorbar\":{\"outlinewidth\":0,\"ticks\":\"\"}}}],\"scatterpolargl\":[{\"type\":\"scatterpolargl\",\"marker\":{\"colorbar\":{\"outlinewidth\":0,\"ticks\":\"\"}}}],\"bar\":[{\"error_x\":{\"color\":\"#2a3f5f\"},\"error_y\":{\"color\":\"#2a3f5f\"},\"marker\":{\"line\":{\"color\":\"#E5ECF6\",\"width\":0.5},\"pattern\":{\"fillmode\":\"overlay\",\"size\":10,\"solidity\":0.2}},\"type\":\"bar\"}],\"scattergeo\":[{\"type\":\"scattergeo\",\"marker\":{\"colorbar\":{\"outlinewidth\":0,\"ticks\":\"\"}}}],\"scatterpolar\":[{\"type\":\"scatterpolar\",\"marker\":{\"colorbar\":{\"outlinewidth\":0,\"ticks\":\"\"}}}],\"histogram\":[{\"marker\":{\"pattern\":{\"fillmode\":\"overlay\",\"size\":10,\"solidity\":0.2}},\"type\":\"histogram\"}],\"scattergl\":[{\"type\":\"scattergl\",\"marker\":{\"colorbar\":{\"outlinewidth\":0,\"ticks\":\"\"}}}],\"scatter3d\":[{\"type\":\"scatter3d\",\"line\":{\"colorbar\":{\"outlinewidth\":0,\"ticks\":\"\"}},\"marker\":{\"colorbar\":{\"outlinewidth\":0,\"ticks\":\"\"}}}],\"scattermapbox\":[{\"type\":\"scattermapbox\",\"marker\":{\"colorbar\":{\"outlinewidth\":0,\"ticks\":\"\"}}}],\"scatterternary\":[{\"type\":\"scatterternary\",\"marker\":{\"colorbar\":{\"outlinewidth\":0,\"ticks\":\"\"}}}],\"scattercarpet\":[{\"type\":\"scattercarpet\",\"marker\":{\"colorbar\":{\"outlinewidth\":0,\"ticks\":\"\"}}}],\"carpet\":[{\"aaxis\":{\"endlinecolor\":\"#2a3f5f\",\"gridcolor\":\"white\",\"linecolor\":\"white\",\"minorgridcolor\":\"white\",\"startlinecolor\":\"#2a3f5f\"},\"baxis\":{\"endlinecolor\":\"#2a3f5f\",\"gridcolor\":\"white\",\"linecolor\":\"white\",\"minorgridcolor\":\"white\",\"startlinecolor\":\"#2a3f5f\"},\"type\":\"carpet\"}],\"table\":[{\"cells\":{\"fill\":{\"color\":\"#EBF0F8\"},\"line\":{\"color\":\"white\"}},\"header\":{\"fill\":{\"color\":\"#C8D4E3\"},\"line\":{\"color\":\"white\"}},\"type\":\"table\"}],\"barpolar\":[{\"marker\":{\"line\":{\"color\":\"#E5ECF6\",\"width\":0.5},\"pattern\":{\"fillmode\":\"overlay\",\"size\":10,\"solidity\":0.2}},\"type\":\"barpolar\"}],\"pie\":[{\"automargin\":true,\"type\":\"pie\"}]},\"layout\":{\"autotypenumbers\":\"strict\",\"colorway\":[\"#636efa\",\"#EF553B\",\"#00cc96\",\"#ab63fa\",\"#FFA15A\",\"#19d3f3\",\"#FF6692\",\"#B6E880\",\"#FF97FF\",\"#FECB52\"],\"font\":{\"color\":\"#2a3f5f\"},\"hovermode\":\"closest\",\"hoverlabel\":{\"align\":\"left\"},\"paper_bgcolor\":\"white\",\"plot_bgcolor\":\"#E5ECF6\",\"polar\":{\"bgcolor\":\"#E5ECF6\",\"angularaxis\":{\"gridcolor\":\"white\",\"linecolor\":\"white\",\"ticks\":\"\"},\"radialaxis\":{\"gridcolor\":\"white\",\"linecolor\":\"white\",\"ticks\":\"\"}},\"ternary\":{\"bgcolor\":\"#E5ECF6\",\"aaxis\":{\"gridcolor\":\"white\",\"linecolor\":\"white\",\"ticks\":\"\"},\"baxis\":{\"gridcolor\":\"white\",\"linecolor\":\"white\",\"ticks\":\"\"},\"caxis\":{\"gridcolor\":\"white\",\"linecolor\":\"white\",\"ticks\":\"\"}},\"coloraxis\":{\"colorbar\":{\"outlinewidth\":0,\"ticks\":\"\"}},\"colorscale\":{\"sequential\":[[0.0,\"#0d0887\"],[0.1111111111111111,\"#46039f\"],[0.2222222222222222,\"#7201a8\"],[0.3333333333333333,\"#9c179e\"],[0.4444444444444444,\"#bd3786\"],[0.5555555555555556,\"#d8576b\"],[0.6666666666666666,\"#ed7953\"],[0.7777777777777778,\"#fb9f3a\"],[0.8888888888888888,\"#fdca26\"],[1.0,\"#f0f921\"]],\"sequentialminus\":[[0.0,\"#0d0887\"],[0.1111111111111111,\"#46039f\"],[0.2222222222222222,\"#7201a8\"],[0.3333333333333333,\"#9c179e\"],[0.4444444444444444,\"#bd3786\"],[0.5555555555555556,\"#d8576b\"],[0.6666666666666666,\"#ed7953\"],[0.7777777777777778,\"#fb9f3a\"],[0.8888888888888888,\"#fdca26\"],[1.0,\"#f0f921\"]],\"diverging\":[[0,\"#8e0152\"],[0.1,\"#c51b7d\"],[0.2,\"#de77ae\"],[0.3,\"#f1b6da\"],[0.4,\"#fde0ef\"],[0.5,\"#f7f7f7\"],[0.6,\"#e6f5d0\"],[0.7,\"#b8e186\"],[0.8,\"#7fbc41\"],[0.9,\"#4d9221\"],[1,\"#276419\"]]},\"xaxis\":{\"gridcolor\":\"white\",\"linecolor\":\"white\",\"ticks\":\"\",\"title\":{\"standoff\":15},\"zerolinecolor\":\"white\",\"automargin\":true,\"zerolinewidth\":2},\"yaxis\":{\"gridcolor\":\"white\",\"linecolor\":\"white\",\"ticks\":\"\",\"title\":{\"standoff\":15},\"zerolinecolor\":\"white\",\"automargin\":true,\"zerolinewidth\":2},\"scene\":{\"xaxis\":{\"backgroundcolor\":\"#E5ECF6\",\"gridcolor\":\"white\",\"linecolor\":\"white\",\"showbackground\":true,\"ticks\":\"\",\"zerolinecolor\":\"white\",\"gridwidth\":2},\"yaxis\":{\"backgroundcolor\":\"#E5ECF6\",\"gridcolor\":\"white\",\"linecolor\":\"white\",\"showbackground\":true,\"ticks\":\"\",\"zerolinecolor\":\"white\",\"gridwidth\":2},\"zaxis\":{\"backgroundcolor\":\"#E5ECF6\",\"gridcolor\":\"white\",\"linecolor\":\"white\",\"showbackground\":true,\"ticks\":\"\",\"zerolinecolor\":\"white\",\"gridwidth\":2}},\"shapedefaults\":{\"line\":{\"color\":\"#2a3f5f\"}},\"annotationdefaults\":{\"arrowcolor\":\"#2a3f5f\",\"arrowhead\":0,\"arrowwidth\":1},\"geo\":{\"bgcolor\":\"white\",\"landcolor\":\"#E5ECF6\",\"subunitcolor\":\"white\",\"showland\":true,\"showlakes\":true,\"lakecolor\":\"white\"},\"title\":{\"x\":0.05},\"mapbox\":{\"style\":\"light\"}}},\"xaxis\":{\"anchor\":\"y\",\"domain\":[0.0,1.0],\"title\":{\"text\":\"Time\"},\"rangeslider\":{\"visible\":true}},\"yaxis\":{\"anchor\":\"x\",\"domain\":[0.0,1.0],\"title\":{\"text\":\"Bid Price\"}},\"legend\":{\"tracegroupgap\":0},\"title\":{\"text\":\"Bid Price Over Time\"}},                        {\"responsive\": true}                    ).then(function(){\n",
              "                            \n",
              "var gd = document.getElementById('53214ffe-9f74-47b5-8a6f-cc7f38350a68');\n",
              "var x = new MutationObserver(function (mutations, observer) {{\n",
              "        var display = window.getComputedStyle(gd).display;\n",
              "        if (!display || display === 'none') {{\n",
              "            console.log([gd, 'removed!']);\n",
              "            Plotly.purge(gd);\n",
              "            observer.disconnect();\n",
              "        }}\n",
              "}});\n",
              "\n",
              "// Listen for the removal of the full notebook cells\n",
              "var notebookContainer = gd.closest('#notebook-container');\n",
              "if (notebookContainer) {{\n",
              "    x.observe(notebookContainer, {childList: true});\n",
              "}}\n",
              "\n",
              "// Listen for the clearing of the current output cell\n",
              "var outputEl = gd.closest('.output');\n",
              "if (outputEl) {{\n",
              "    x.observe(outputEl, {childList: true});\n",
              "}}\n",
              "\n",
              "                        })                };                            </script>        </div>\n",
              "</body>\n",
              "</html>"
            ]
          },
          "metadata": {}
        }
      ]
    },
    {
      "cell_type": "code",
      "source": [
        "!pip install wget\n",
        "import pandas as pd\n",
        "import wget\n",
        "import pandas as pd\n",
        "\n",
        "# Replace 'URL' with the actual URL of the CSV file\n",
        "url = 'https://raw.githubusercontent.com/roni762583/AUDJPY-1M/main/DAT_ASCII_AUDJPY_M1_2020.csv'\n",
        "\n",
        "# Read the CSV file with ';' as the delimiter\n",
        "df = pd.read_csv(url, sep=';', header=None, names=['DateTime', 'Open', 'High', 'Low', 'close_bid','vol'], parse_dates=True)\n",
        "df = df.drop(columns=['Open', 'High', 'Low', 'vol'])\n",
        "# Display the first few rows of the DataFrame\n",
        "print(df.head())\n"
      ],
      "metadata": {
        "colab": {
          "base_uri": "https://localhost:8080/"
        },
        "id": "NDconCjHfJzU",
        "outputId": "b212342c-dc77-49f5-c706-4f9512a7a88e"
      },
      "execution_count": null,
      "outputs": [
        {
          "output_type": "stream",
          "name": "stdout",
          "text": [
            "Requirement already satisfied: wget in /usr/local/lib/python3.10/dist-packages (3.2)\n"
          ]
        }
      ]
    },
    {
      "cell_type": "code",
      "source": [
        "# using three button output\n",
        "\n",
        "# Assuming softmax_output contains the output probabilities from the softmax layer\n",
        "softmax_output = np.array([0.2, 0.3, 0.5])\n",
        "\n",
        "# Set a threshold for interpreting \"no action\"\n",
        "threshold = 0.4\n",
        "\n",
        "# Interpret the output\n",
        "if np.max(softmax_output) > threshold:\n",
        "    action = np.argmax(softmax_output)\n",
        "    if action == 0:\n",
        "        print(\"Buy\")\n",
        "    elif action == 1:\n",
        "        print(\"Sell\")\n",
        "    else:\n",
        "        print(\"Close\")\n",
        "else:\n",
        "    print(\"Hold\")\n"
      ],
      "metadata": {
        "colab": {
          "base_uri": "https://localhost:8080/"
        },
        "id": "RjVx3Kyvdqax",
        "outputId": "f66695d9-5537-4a73-f6c9-945bc765d28a"
      },
      "execution_count": null,
      "outputs": [
        {
          "output_type": "stream",
          "name": "stdout",
          "text": [
            "Close\n"
          ]
        }
      ]
    }
  ]
}
